{
  "nbformat": 4,
  "nbformat_minor": 0,
  "metadata": {
    "colab": {
      "name": " Домашнее задание №1",
      "provenance": [],
      "collapsed_sections": []
    },
    "kernelspec": {
      "name": "python3",
      "display_name": "Python 3"
    }
  },
  "cells": [
    {
      "cell_type": "markdown",
      "metadata": {
        "id": "UfmBTgfeXsw8"
      },
      "source": [
        "### Задание №1"
      ]
    },
    {
      "cell_type": "markdown",
      "metadata": {
        "id": "DQKi5R2iYphJ"
      },
      "source": [
        "1. Попросите пользователя ввести его имя и сохраните введенные данные в переменной name (используйте функцию input())\n",
        "\n",
        "2. Попросите пользователя ввести его фамилию и сохраните введенные данные в переменной surname (используйте функцию input())\n",
        "\n",
        "3. Попросите пользователя ввести его возраст и сохраните введенные данные в переменной age (используйте функцию input())\n",
        "\n",
        "4. Выведите на экран следующую строку: \"Новый пользователь: Иванов Иван Возраст: 32\" (используйте функцию print() для вывода информации)\n",
        "\n",
        "Вместо Иванов Иван и 32 должна быть информация, введенная пользователем.\n"
      ]
    },
    {
      "cell_type": "code",
      "metadata": {
        "id": "gCnBiBvGSgkz",
        "colab": {
          "base_uri": "https://localhost:8080/"
        },
        "outputId": "c087755b-d588-49ce-c84a-defc6b2502ee"
      },
      "source": [
        "# Ваше рещение\n",
        "name = str(input('Введите ваше имя: '))\n",
        "surname = str(input('Введите вашу фамилию: '))\n",
        "age = input('Введите ваш возраст: ')\n",
        "print(name + ' ' + surname + ' ' + age)"
      ],
      "execution_count": 4,
      "outputs": [
        {
          "output_type": "stream",
          "text": [
            "Введите ваше имя: Влад\n",
            "Введите вашу фамилию: Кудюров\n",
            "Введите ваш возраст: 31\n",
            "Влад Кудюров 31\n"
          ],
          "name": "stdout"
        }
      ]
    },
    {
      "cell_type": "markdown",
      "metadata": {
        "id": "4jHn1JeOVdws"
      },
      "source": [
        "### Задание №2"
      ]
    },
    {
      "cell_type": "markdown",
      "metadata": {
        "id": "w6EE03IAZsCz"
      },
      "source": [
        "1. Создайте список, состоящий из последовательности календарных месяцев (Январь, Февраль, Март и т.д.)\n",
        "\n",
        "2. Попросите пользователя ввести число от 1 до 12 и сохраните введенные данные в переменной с именем value  (используйте функцию input(), а также функцию преобразования типа данных к целому числу int())\n",
        "\n",
        "3. Выведите на экран сообщение: \"Месяц с порядковым номером 3 - Март\" (Здесь вместо цифры 3 должна быть цифра, введенная пользователем, а вместо Март - соответствующий месяц)"
      ]
    },
    {
      "cell_type": "code",
      "metadata": {
        "id": "Z6KAOGExZk20",
        "colab": {
          "base_uri": "https://localhost:8080/"
        },
        "outputId": "3cfeadec-d7b9-4ff6-b8a2-f5e9218a1ce9"
      },
      "source": [
        "# Ваше решение\n",
        "value = int(input('Введите число от 1 до 12: \\n'))\n",
        "year = ['Январь', 'Февраль', 'Март', 'Апрель', 'Май', 'Июнь', 'Июль', 'Август', 'Сентябрь', 'Октябрь', 'Ноябрь', 'Декабрь']\n",
        "print(f'месяц соответствующий значению {value} является {year[value-1]}')"
      ],
      "execution_count": 16,
      "outputs": [
        {
          "output_type": "stream",
          "text": [
            "Введите число от 1 до 12: \n",
            "5\n",
            "месяц соответствующий значению 5 является Май\n"
          ],
          "name": "stdout"
        }
      ]
    },
    {
      "cell_type": "markdown",
      "metadata": {
        "id": "AR_Ifp7kdzVM"
      },
      "source": [
        "### Задание 3"
      ]
    },
    {
      "cell_type": "markdown",
      "metadata": {
        "id": "0WM_bnb_gQ1l"
      },
      "source": [
        "1. Создайте список, который содержит следующие значения: [1, 5, 23, 63, 2, 108, 54, 7, 6, 1, 56].\n",
        "\n",
        "2. Напишите программу, которая с помощью цикла for найдет и выведет на экран все значения меньше 54 (используйте конструкцию цикла for in, а также функцию print() для вывода информации на экран)"
      ]
    },
    {
      "cell_type": "code",
      "metadata": {
        "id": "ydDXuW2za-sO",
        "colab": {
          "base_uri": "https://localhost:8080/"
        },
        "outputId": "37cbb2bf-c096-4d7d-9429-6e058c1c4ce6"
      },
      "source": [
        "# Ваше решение\n",
        "list_ = [1, 5, 23, 63, 2, 108, 54, 7, 6, 1, 56]\n",
        "for i in list_:\n",
        "  if i < 54:\n",
        "    print(i)"
      ],
      "execution_count": 18,
      "outputs": [
        {
          "output_type": "stream",
          "text": [
            "1\n",
            "5\n",
            "23\n",
            "2\n",
            "7\n",
            "6\n",
            "1\n"
          ],
          "name": "stdout"
        }
      ]
    },
    {
      "cell_type": "markdown",
      "metadata": {
        "id": "fta7u-v0hUp8"
      },
      "source": [
        "### Задание 4"
      ]
    },
    {
      "cell_type": "markdown",
      "metadata": {
        "id": "ec-SpIV8hXsa"
      },
      "source": [
        "1. Используя список, который вы получили на предыдущем шаге, сформируйте из него numpy-массив (воспользуйтесь способом создания numpy-массивов из списка)\n",
        "\n",
        "2. Выведите на экран произведение первого и последнего элементов массива (воспользуйтесь индексацией элементов списка)\n",
        "\n",
        "3. Выведите на экран сумму максимального и минимального элементов списка (используйте функции .min() и .max() для поиска соответствующих значений)"
      ]
    },
    {
      "cell_type": "code",
      "metadata": {
        "id": "vrvTcsQGhUAg",
        "colab": {
          "base_uri": "https://localhost:8080/"
        },
        "outputId": "eb832bc5-be62-40a4-c834-f8ceffe62adf"
      },
      "source": [
        "# Ваше решение\n",
        "import numpy as np # Подключаем библиотеку numpy\n",
        "list_ = [1, 5, 23, 63, 2, 108, 54, 7, 6, 1, 56]\n",
        "arr = np.array(list_)\n",
        "print(f'произведение первого и последнего элементов массива: {arr[0] * arr[-1]}')\n",
        "print(f'сумму максимального и минимального элементов списка: {np.min(list_) + np.max(list_)}')"
      ],
      "execution_count": 21,
      "outputs": [
        {
          "output_type": "stream",
          "text": [
            "произведение первого и последнего элементов массива: 56\n",
            "сумму максимального и минимального элементов списка: 109\n"
          ],
          "name": "stdout"
        }
      ]
    },
    {
      "cell_type": "markdown",
      "metadata": {
        "id": "BcE7E_79iUk2"
      },
      "source": [
        "### Задание 5 * (для желающих проверить свои силы :)"
      ]
    },
    {
      "cell_type": "markdown",
      "metadata": {
        "id": "VnCyYyFsiirw"
      },
      "source": [
        "Задание со звездочкой.\n",
        "\n",
        "В данном задании нужно приложить чуть больше усилий, так как для решения потребуется объединить все полученные знания в рамках одной задачи\n",
        "\n",
        "1. Найдите в интернете температурные показатели за любой месяц (например, январь 2020 года)\n",
        "\n",
        "2. Создайте numpy-массив из показаний найденных температур (пример: [-13, -17, -18 ... ]\n",
        "\n",
        "3. Выведите на экран среднюю температуру за январь 2020 года\n",
        "\n",
        "4. Выведите на экран значения максимальной и минимальной температур за январь 2020 года\n",
        "\n",
        "5. Постройте график изменения температур\n",
        "\n",
        "6. Постройте гистограмму изменения температур"
      ]
    },
    {
      "cell_type": "code",
      "metadata": {
        "id": "EGZcoc9jiT6B"
      },
      "source": [
        "# Ваше решение\n",
        "import matplotlib.pyplot as plt # Подключаем модуль pyplot библиотеки matplotlib и задаем псевдоним plt\n",
        "from seaborn import set_style # Подключаем стили графиков\n",
        "import numpy as np # Подключаем библиотеку numpy\n",
        "# Команда для отрисовки графика непосредственно в ячейке\n",
        "%matplotlib inline  \n",
        "set_style('darkgrid') # Задаем стиль \n"
      ],
      "execution_count": 24,
      "outputs": []
    },
    {
      "cell_type": "code",
      "metadata": {
        "id": "5DLK0YjfBvdE",
        "colab": {
          "base_uri": "https://localhost:8080/"
        },
        "outputId": "24873cd9-bdc8-4d10-d092-9cf359d66dd7"
      },
      "source": [
        "import pandas as pd\n",
        "from google.colab import drive\n",
        "drive.mount('/content/drive')"
      ],
      "execution_count": 32,
      "outputs": [
        {
          "output_type": "stream",
          "text": [
            "Drive already mounted at /content/drive; to attempt to forcibly remount, call drive.mount(\"/content/drive\", force_remount=True).\n"
          ],
          "name": "stdout"
        }
      ]
    },
    {
      "cell_type": "code",
      "metadata": {
        "colab": {
          "base_uri": "https://localhost:8080/",
          "height": 202
        },
        "id": "mWCRbIZxwl8W",
        "outputId": "61a18865-d650-4e9d-acb2-4857119b6b40"
      },
      "source": [
        "df = pd.read_excel('/content/drive/My Drive/datasets/погода.xlsx')\n",
        "df.head()"
      ],
      "execution_count": 49,
      "outputs": [
        {
          "output_type": "execute_result",
          "data": {
            "text/html": [
              "<div>\n",
              "<style scoped>\n",
              "    .dataframe tbody tr th:only-of-type {\n",
              "        vertical-align: middle;\n",
              "    }\n",
              "\n",
              "    .dataframe tbody tr th {\n",
              "        vertical-align: top;\n",
              "    }\n",
              "\n",
              "    .dataframe thead th {\n",
              "        text-align: right;\n",
              "    }\n",
              "</style>\n",
              "<table border=\"1\" class=\"dataframe\">\n",
              "  <thead>\n",
              "    <tr style=\"text-align: right;\">\n",
              "      <th></th>\n",
              "      <th>Дата</th>\n",
              "      <th>Температура</th>\n",
              "    </tr>\n",
              "  </thead>\n",
              "  <tbody>\n",
              "    <tr>\n",
              "      <th>0</th>\n",
              "      <td>2020-01-01</td>\n",
              "      <td>0.86</td>\n",
              "    </tr>\n",
              "    <tr>\n",
              "      <th>1</th>\n",
              "      <td>2020-01-02</td>\n",
              "      <td>3.00</td>\n",
              "    </tr>\n",
              "    <tr>\n",
              "      <th>2</th>\n",
              "      <td>2020-01-03</td>\n",
              "      <td>3.14</td>\n",
              "    </tr>\n",
              "    <tr>\n",
              "      <th>3</th>\n",
              "      <td>2020-01-04</td>\n",
              "      <td>0.71</td>\n",
              "    </tr>\n",
              "    <tr>\n",
              "      <th>4</th>\n",
              "      <td>2020-01-05</td>\n",
              "      <td>-2.43</td>\n",
              "    </tr>\n",
              "  </tbody>\n",
              "</table>\n",
              "</div>"
            ],
            "text/plain": [
              "        Дата  Температура\n",
              "0 2020-01-01         0.86\n",
              "1 2020-01-02         3.00\n",
              "2 2020-01-03         3.14\n",
              "3 2020-01-04         0.71\n",
              "4 2020-01-05        -2.43"
            ]
          },
          "metadata": {
            "tags": []
          },
          "execution_count": 49
        }
      ]
    },
    {
      "cell_type": "code",
      "metadata": {
        "colab": {
          "base_uri": "https://localhost:8080/"
        },
        "id": "W8gfRpoYI10-",
        "outputId": "6dc6bb67-710c-46ea-d122-afb57263bfd7"
      },
      "source": [
        "date = np.array(df['Температура'])\n",
        "print(f'Средняя температура за Январь 2020 года: {round(np.mean(date), 2)} градусов')\n",
        "print(f'Максимальная температура за Январь 2020 года: {np.max(date)} градусов')\n",
        "print(f'Минимальная температура за Январь 2020 года: {np.min(date)} градусов')"
      ],
      "execution_count": 54,
      "outputs": [
        {
          "output_type": "stream",
          "text": [
            "Средняя температура за Январь 2020 года: 1.85 градусов\n",
            "Максимальная температура за Январь 2020 года: 5.57 градусов\n",
            "Минимальная температура за Январь 2020 года: -2.43 градусов\n"
          ],
          "name": "stdout"
        }
      ]
    },
    {
      "cell_type": "code",
      "metadata": {
        "colab": {
          "base_uri": "https://localhost:8080/",
          "height": 343
        },
        "id": "4QUWYVCAI14P",
        "outputId": "0011dc09-b7db-493e-ae3f-6ef3ae16fce3"
      },
      "source": [
        "plt.plot(df['Дата'], df['Температура'], color='black', marker='o')\n",
        "plt.title('Погода в Январе 2020')\n",
        "plt.ylabel('Градусы')\n",
        "plt.xlabel('Дата')\n",
        "plt.legend('weather')\n",
        "plt.xticks(rotation=90)\n",
        "plt.show()"
      ],
      "execution_count": 66,
      "outputs": [
        {
          "output_type": "display_data",
          "data": {
            "image/png": "[encoded data removed]",
            "text/plain": [
              "<Figure size 432x288 with 1 Axes>"
            ]
          },
          "metadata": {
            "tags": []
          }
        }
      ]
    },
    {
      "cell_type": "code",
      "metadata": {
        "colab": {
          "base_uri": "https://localhost:8080/",
          "height": 343
        },
        "id": "PQMKq_DwI16m",
        "outputId": "210e00ef-dabd-44ba-c0f8-b03c9dfed6f4"
      },
      "source": [
        "plt.bar(df['Дата'], df['Температура'], color='black')\n",
        "plt.title('Погода в Январе 2020')\n",
        "plt.ylabel('Градусы')\n",
        "plt.xlabel('Дата')\n",
        "plt.legend('weather')\n",
        "plt.xticks(rotation=90)\n",
        "plt.show()"
      ],
      "execution_count": 68,
      "outputs": [
        {
          "output_type": "display_data",
          "data": {
            "image/png": "[encoded data removed]",
            "text/plain": [
              "<Figure size 432x288 with 1 Axes>"
            ]
          },
          "metadata": {
            "tags": []
          }
        }
      ]
    }
  ]
}