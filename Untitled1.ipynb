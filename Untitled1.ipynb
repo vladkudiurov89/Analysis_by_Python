{
  "nbformat": 4,
  "nbformat_minor": 0,
  "metadata": {
    "colab": {
      "name": "Untitled1.ipynb",
      "provenance": [],
      "authorship_tag": "ABX9TyPfKbAEXHc1HDEWLhtOjGRT",
      "include_colab_link": true
    },
    "kernelspec": {
      "name": "python3",
      "display_name": "Python 3"
    }
  },
  "cells": [
    {
      "cell_type": "markdown",
      "metadata": {
        "id": "view-in-github",
        "colab_type": "text"
      },
      "source": [
        "<a href=\"https://colab.research.google.com/github/vladkudiurov89/Analysis_by_Python/blob/master/Untitled1.ipynb\" target=\"_parent\"><img src=\"https://colab.research.google.com/assets/colab-badge.svg\" alt=\"Open In Colab\"/></a>"
      ]
    },
    {
      "cell_type": "code",
      "metadata": {
        "id": "OkvtrTf3UiVK",
        "colab_type": "code",
        "colab": {}
      },
      "source": [
        "a = 6\n",
        "b = 7\n",
        "print(a+b)"
      ],
      "execution_count": null,
      "outputs": []
    }
  ]
}